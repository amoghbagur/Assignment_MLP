{
 "cells": [
  {
   "cell_type": "code",
   "execution_count": 1,
   "metadata": {
    "colab": {},
    "colab_type": "code",
    "id": "nfC-p1xIW9Kh"
   },
   "outputs": [],
   "source": [
    "def csv(file):\n",
    "    dataset = [] \n",
    "    data = open(file,'r').readlines() \n",
    "    for i in data: \n",
    "        row=i.split(',') \n",
    "        t=list(map(float,row[:-1])) \n",
    "        if row[-1]=='M\\n': \n",
    "            t.append(1) \n",
    "        else:\n",
    "            t.append(0) \n",
    "        dataset.append(t) \n",
    "    return dataset[:len(dataset)-100] \n",
    "file = 'mydata.csv' \n",
    "dataset = csv(file)"
   ]
  },
  {
   "cell_type": "code",
   "execution_count": 2,
   "metadata": {
    "colab": {},
    "colab_type": "code",
    "id": "GS1UR1WlX44U"
   },
   "outputs": [],
   "source": [
    "from random import randrange \n",
    "def split(dataset, n): \n",
    "    t = list() \n",
    "    dataset_copy = list(dataset) \n",
    "    fold_size = len(dataset) // n \n",
    "    for i in range(n): \n",
    "        fold = list() \n",
    "        while len(fold) < fold_size: \n",
    "            index = randrange(0, len(dataset_copy)) \n",
    "            fold.append(dataset_copy.pop(index))    \n",
    "        t.append(fold) \n",
    "    return t "
   ]
  },
  {
   "cell_type": "code",
   "execution_count": 3,
   "metadata": {
    "colab": {},
    "colab_type": "code",
    "id": "WkouzqMuYRJD"
   },
   "outputs": [],
   "source": [
    "def findmetrics(act, pred):\n",
    "    tn,tp,fn,fp,= 0,0,0,0 \n",
    "    for i in range(len(act)): \n",
    "        if act[i] == 1 and pred[i]==1: \n",
    "            tp+=1\n",
    "        elif act[i]==1 and pred[i]==0:\n",
    "            fn+=1\n",
    "        elif act[i]==0 and pred[i]==1:\n",
    "            fp+=1\n",
    "        else: \n",
    "            tn+=1\n",
    "    return [(tn+tp)/(tn+tp+fn+fp),str(tp)+'  '+str(fn)+'\\n'+str(fp)+'  '+str(tn),tp/(tp+fp),tp/(tp+fn)]"
   ]
  },
  {
   "cell_type": "code",
   "execution_count": 4,
   "metadata": {
    "colab": {},
    "colab_type": "code",
    "id": "tBjemh_lYeiG"
   },
   "outputs": [],
   "source": [
    "def algorithm(dataset, algo, n, *args):\n",
    "    folds =split(dataset, n) \n",
    "    scores = list() \n",
    "    for i in range(len(folds)): \n",
    "        train_set = list(folds) \n",
    "        train_set.remove(folds[i]) \n",
    "        train_set = sum(train_set, []) \n",
    "        test_set = list() \n",
    "        actual=list()\n",
    "        for row in folds[i]:\n",
    "            row_c = list(row) \n",
    "            actual.append(row_c[-1]) \n",
    "            row_c[-1] = None \n",
    "            test_set.append(row_c) \n",
    "        \n",
    "        predicted = algo(train_set, test_set, *args) \n",
    "        metrics = findmetrics(actual, predicted) \n",
    "        print(' Fold',i+1,':')\n",
    "        print(' the Hyperparameters')\n",
    "        print('Completed Cumulative Epochs : ',4000*(i+1))\n",
    "        print('Learning rate : ',0.02,'\\n')\n",
    "        print('Metrics -')\n",
    "        print('Accuracy : ',metrics[0]) \n",
    "        print('Confusion Matrix:\\n'+metrics[1])\n",
    "        print('Precision : ',metrics[2])\n",
    "        print('Recall : ',metrics[3],'\\n')\n",
    "        scores.append(metrics[0])\n",
    "    return scores"
   ]
  },
  {
   "cell_type": "code",
   "execution_count": 5,
   "metadata": {
    "colab": {},
    "colab_type": "code",
    "id": "eWFNYfIPYoId"
   },
   "outputs": [],
   "source": [
    "def predict(row, weights):\n",
    "    activation = weights[0]\n",
    "    for i in range(len(row)-1):\n",
    "        activation += weights[i + 1] * row[i] \n",
    "    return 1.0 if activation>= 0.0 else 0.0 "
   ]
  },
  {
   "cell_type": "code",
   "execution_count": 6,
   "metadata": {
    "colab": {},
    "colab_type": "code",
    "id": "o0i7jHGHYwAa"
   },
   "outputs": [],
   "source": [
    "def train_it(train, lerate, noepoch):\n",
    "    weights = [0.0 for i in range(len(train[0]))] \n",
    "    for epoch in range(noepoch): \n",
    "        sum_error = 0.0  \n",
    "        for row in train: \n",
    "            prediction = predict(row, weights) \n",
    "            error = row[-1] - prediction \n",
    "            sum_error += error**2 \n",
    "            weights[0] = weights[0] + lerate * error\n",
    "            for i in range(len(row)-1): \n",
    "                weights[i + 1] = weights[i + 1] + lerate * error * row[i] \n",
    "        error_data.append((epoch, sum_error)) \n",
    "    return weights"
   ]
  },
  {
   "cell_type": "code",
   "execution_count": 7,
   "metadata": {
    "colab": {},
    "colab_type": "code",
    "id": "V2bfcc1xKQNH"
   },
   "outputs": [],
   "source": [
    "import seaborn as sns \n",
    "import matplotlib.pyplot as plt\n",
    "%matplotlib inline \n",
    "def plot(error_data,a): \n",
    "    x=[error_data[i+4000*a][0] for i in range(0,4000)] \n",
    "    y=[error_data[i+4000*a][1] for i in range(0,4000)] \n",
    "    ax=sns.lineplot(x,y,color=\"coral\") \n",
    "    \n",
    "    ax.set_title('Fold '+str(a+1)+' loss function/Squared sum plot') \n",
    "    ax.set(xlabel='Epochs',ylabel='Squared Error') \n",
    "    plt.show() \n",
    "\n"
   ]
  },
  {
   "cell_type": "code",
   "execution_count": 8,
   "metadata": {
    "colab": {},
    "colab_type": "code",
    "id": "Ase2eP2fY4k3"
   },
   "outputs": [],
   "source": [
    "\n",
    "def perceptron(train, test, lerate, noepoch):\n",
    "    predictions = list() \n",
    "    weights = train_it(train, lerate, noepoch) \n",
    "    stor_weights.append(weights)\n",
    "    for row in test: \n",
    "        prediction = predict(row, weights) \n",
    "        predictions.append(prediction) \n",
    "    return predictions"
   ]
  },
  {
   "cell_type": "code",
   "execution_count": 9,
   "metadata": {
    "colab": {
     "base_uri": "https://localhost:8080/",
     "height": 1000
    },
    "colab_type": "code",
    "id": "bPMb7HY_wIEb",
    "outputId": "3e40beae-8311-4f20-f7ac-99caf3a539f8"
   },
   "outputs": [
    {
     "name": "stdout",
     "output_type": "stream",
     "text": [
      "Training phase \n",
      " Fold 1 :\n",
      " the Hyperparameters\n",
      "Completed Cumulative Epochs :  4000\n",
      "Learning rate :  0.02 \n",
      "\n",
      "Metrics -\n",
      "Accuracy :  0.8653846153846154\n",
      "Confusion Matrix:\n",
      "55  1\n",
      "20  80\n",
      "Precision :  0.7333333333333333\n",
      "Recall :  0.9821428571428571 \n",
      "\n",
      " Fold 2 :\n",
      " the Hyperparameters\n",
      "Completed Cumulative Epochs :  8000\n",
      "Learning rate :  0.02 \n",
      "\n",
      "Metrics -\n",
      "Accuracy :  0.9166666666666666\n",
      "Confusion Matrix:\n",
      "56  7\n",
      "6  87\n",
      "Precision :  0.9032258064516129\n",
      "Recall :  0.8888888888888888 \n",
      "\n",
      " Fold 3 :\n",
      " the Hyperparameters\n",
      "Completed Cumulative Epochs :  12000\n",
      "Learning rate :  0.02 \n",
      "\n",
      "Metrics -\n",
      "Accuracy :  0.9487179487179487\n",
      "Confusion Matrix:\n",
      "66  3\n",
      "5  82\n",
      "Precision :  0.9295774647887324\n",
      "Recall :  0.9565217391304348 \n",
      "\n",
      "Results obtained in every run:\n",
      "\n"
     ]
    },
    {
     "data": {
      "image/png": "[encoded data removed]",
      "text/plain": [
       "<Figure size 432x288 with 1 Axes>"
      ]
     },
     "metadata": {
      "needs_background": "light"
     },
     "output_type": "display_data"
    },
    {
     "data": {
      "image/png": "[encoded data removed]",
      "text/plain": [
       "<Figure size 432x288 with 1 Axes>"
      ]
     },
     "metadata": {
      "needs_background": "light"
     },
     "output_type": "display_data"
    },
    {
     "data": {
      "image/png": "[encoded data removed]",
      "text/plain": [
       "<Figure size 432x288 with 1 Axes>"
      ]
     },
     "metadata": {
      "needs_background": "light"
     },
     "output_type": "display_data"
    },
    {
     "name": "stdout",
     "output_type": "stream",
     "text": [
      "All Accuracy Scores:  [0.8653846153846154, 0.9166666666666666, 0.9487179487179487]\n",
      "Average Accuracy:  0.9102564102564102\n",
      "\n",
      "Initial start weights: \n",
      "[-114.33999999999439, -866.8377600002635, 413.44599999961395, -2152.3784000000596, -37.492000000044605, 17.12043460000074, 98.55059120004962, 138.5642768499708, 57.47543855997716, 23.635165999993436, 5.651771999999506, -10.99009599999335, -101.01004999998716, 205.95503400013394, 221.46496000014096, 3.757818039999993, 32.483994839989656, 40.91241074998379, 8.766199879996298, 13.752586620002113, 3.139410459999761, -777.2836400002138, 801.054600000204, 327.2651999997954, 243.28599999993844, 32.78982680001348, 323.4714824000987, 388.86791827995825, 107.68653624003852, 107.05767399999024, 30.799974400016023]\n",
      "\n",
      "Updated Final Weights: \n",
      "[-117.3399999999938, -833.8852800002268, 231.58619999954928, -1967.9187999988064, 5.3779999999409505, 11.320493399996964, 95.73333200001146, 133.17430307799597, 50.450584320000104, 12.812148000002747, 4.405783600001874, -13.888615999997622, -51.64446799998155, 379.7289219999953, 348.01575999989046, 2.841291340000763, 25.957296639995064, 34.197610499999044, 8.295039179997875, 6.494239280001941, 1.7175851800000328, -788.8489400002056, 673.917000000564, 857.5197999999123, 97.35800000002833, 25.328365400008384, 354.5220218002932, 407.48776525998744, 111.34515779996416, 72.5943079999864, 29.5154168000036] \n",
      "\n",
      "test results for an new dataset \n",
      "\n",
      " Accuracy:  0.93\n",
      "Confusion Matrix:\n",
      "23  2\n",
      "5  70\n",
      " Recall:  0.92\n",
      " Precision:  0.8214285714285714\n"
     ]
    }
   ],
   "source": [
    "nofolds = 3 \n",
    "lerate = 0.02 \n",
    "noepoch = 4000 \n",
    "\n",
    "error_data = list() \n",
    "stor_weights = list() \n",
    "print('Training phase ')\n",
    "scores = algorithm(dataset, perceptron, nofolds, lerate, noepoch)\n",
    "\n",
    "print('Results obtained in every run:\\n')\n",
    "\n",
    "\n",
    "for i in range(3):\n",
    "    plot(error_data,i)\n",
    "print(' All Accuracy Scores: ',scores)\n",
    "print(' Average Accuracy: ',sum(scores)/len(scores))\n",
    "print('\\n Initial start weights: ')\n",
    "print(stor_weights[0])\n",
    "w_test = stor_weights[-1]\n",
    "print('\\n Updated Final Weights: ')\n",
    "print(w_test,'\\n')\n",
    "\n",
    "print(\"test results for an new dataset \")\n",
    "act,pred=[],[]\n",
    "for i in range(100):\n",
    "    act.append(dataset[len(dataset)-i-1][30])\n",
    "    pred.append(predict(dataset[len(dataset)-i-1], w_test))\n",
    "\n",
    "metrics=findmetrics(act,pred)\n",
    "print('\\n Accuracy: ',metrics[0])\n",
    "print('Confusion Matrix:\\n'+metrics[1])\n",
    "print(' Recall: ',metrics[3])\n",
    "print(' Precision: ',metrics[2])\n"
   ]
  },
  {
   "cell_type": "markdown",
   "metadata": {
    "colab_type": "text",
    "id": "xkDySgNchK4L"
   },
   "source": [
    "- Conclusion and Justification -\n",
    "\n",
    "A straightforward Single Layer Perceptron calculation was run on the Diabetes (Type 1 - Type 2) dataset utilizing K-Folds Cross Validation and SGD. The testing precision acquired was around 91.2% in the training dataset and 92.8% on an random dataset, among other pertinent measurements. \n",
    "\n",
    "The three charts acquired show the squared error sum function for every epoch, and for every considered fold. As we can see, the error diminishes as the number of iterations increase. "
   ]
  }
 ],
 "metadata": {
  "colab": {
   "collapsed_sections": [],
   "name": "MLP.ipynb",
   "provenance": []
  },
  "kernelspec": {
   "display_name": "Python 3",
   "language": "python",
   "name": "python3"
  },
  "language_info": {
   "codemirror_mode": {
    "name": "ipython",
    "version": 3
   },
   "file_extension": ".py",
   "mimetype": "text/x-python",
   "name": "python",
   "nbconvert_exporter": "python",
   "pygments_lexer": "ipython3",
   "version": "3.7.1"
  },
  "toc": {
   "base_numbering": 1,
   "nav_menu": {},
   "number_sections": true,
   "sideBar": true,
   "skip_h1_title": false,
   "title_cell": "Table of Contents",
   "title_sidebar": "Contents",
   "toc_cell": false,
   "toc_position": {},
   "toc_section_display": true,
   "toc_window_display": false
  }
 },
 "nbformat": 4,
 "nbformat_minor": 1
}
